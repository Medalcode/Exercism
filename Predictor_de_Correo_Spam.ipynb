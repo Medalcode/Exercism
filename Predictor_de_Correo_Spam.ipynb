{
  "cells": [
    {
      "cell_type": "markdown",
      "metadata": {
        "id": "view-in-github",
        "colab_type": "text"
      },
      "source": [
        "<a href=\"https://colab.research.google.com/github/Medalcode/GColab/blob/main/Predictor_de_Correo_Spam.ipynb\" target=\"_parent\"><img src=\"https://colab.research.google.com/assets/colab-badge.svg\" alt=\"Open In Colab\"/></a>"
      ]
    },
    {
      "cell_type": "code",
      "execution_count": null,
      "metadata": {
        "id": "tN7Igu5SLr0l"
      },
      "outputs": [],
      "source": [
        "1# Importar librerías necesarias\n",
        "import os  # Para interactuar con el sistema operativo\n",
        "import re  # Para expresiones regulares\n",
        "import string  # Para trabajar con cadenas de texto\n",
        "import nltk  # Para procesamiento de lenguaje natural\n",
        "import numpy as np  # Para operaciones numéricas eficientes\n",
        "import pandas as pd  # Para manipulación y análisis de datos\n",
        "import matplotlib.pyplot as plt  # Para visualización de datos\n",
        "import seaborn as sns  # Para visualización avanzada de datos\n",
        "from sklearn.model_selection import train_test_split  # Para dividir los datos en conjuntos de entrenamiento y prueba\n",
        "from sklearn.feature_extraction.text import CountVectorizer  # Para vectorizar texto\n",
        "from sklearn.feature_extraction.text import TfidfVectorizer  # Para vectorizar texto con pesos TF-IDF\n",
        "from sklearn.metrics import accuracy_score, classification_report  # Para evaluar el modelo\n",
        "from sklearn.ensemble import RandomForestClassifier  # Para el clasificador Random Forest\n",
        "from sklearn.linear_model import LogisticRegression  # Para el modelo de Regresión Logística\n",
        "from sklearn.metrics import accuracy_score, classification_report, confusion_matrix  #evaluar el rendimiento del modelo\n",
        "from sklearn.pipeline import Pipeline #crea un flujo de trabajo encadenado de procesamiento y modelado en Scikit-Learn\n"
      ]
    },
    {
      "cell_type": "markdown",
      "source": [],
      "metadata": {
        "id": "L7Xnf3bEGGqn"
      }
    },
    {
      "cell_type": "code",
      "execution_count": null,
      "metadata": {
        "colab": {
          "base_uri": "https://localhost:8080/"
        },
        "id": "1r5Sn0VxKGma",
        "outputId": "c75ee240-0279-458e-819e-e0093fd25b32"
      },
      "outputs": [
        {
          "output_type": "stream",
          "name": "stdout",
          "text": [
            "Collecting q\n",
            "  Downloading q-2.7-py2.py3-none-any.whl.metadata (811 bytes)\n",
            "Requirement already satisfied: kaggle in /usr/local/lib/python3.10/dist-packages (1.6.17)\n",
            "Requirement already satisfied: six>=1.10 in /usr/local/lib/python3.10/dist-packages (from kaggle) (1.16.0)\n",
            "Requirement already satisfied: certifi>=2023.7.22 in /usr/local/lib/python3.10/dist-packages (from kaggle) (2024.8.30)\n",
            "Requirement already satisfied: python-dateutil in /usr/local/lib/python3.10/dist-packages (from kaggle) (2.8.2)\n",
            "Requirement already satisfied: requests in /usr/local/lib/python3.10/dist-packages (from kaggle) (2.32.3)\n",
            "Requirement already satisfied: tqdm in /usr/local/lib/python3.10/dist-packages (from kaggle) (4.66.6)\n",
            "Requirement already satisfied: python-slugify in /usr/local/lib/python3.10/dist-packages (from kaggle) (8.0.4)\n",
            "Requirement already satisfied: urllib3 in /usr/local/lib/python3.10/dist-packages (from kaggle) (2.2.3)\n",
            "Requirement already satisfied: bleach in /usr/local/lib/python3.10/dist-packages (from kaggle) (6.2.0)\n",
            "Requirement already satisfied: webencodings in /usr/local/lib/python3.10/dist-packages (from bleach->kaggle) (0.5.1)\n",
            "Requirement already satisfied: text-unidecode>=1.3 in /usr/local/lib/python3.10/dist-packages (from python-slugify->kaggle) (1.3)\n",
            "Requirement already satisfied: charset-normalizer<4,>=2 in /usr/local/lib/python3.10/dist-packages (from requests->kaggle) (3.4.0)\n",
            "Requirement already satisfied: idna<4,>=2.5 in /usr/local/lib/python3.10/dist-packages (from requests->kaggle) (3.10)\n",
            "Downloading q-2.7-py2.py3-none-any.whl (10 kB)\n",
            "Installing collected packages: q\n",
            "Successfully installed q-2.7\n"
          ]
        }
      ],
      "source": [
        "\n",
        "import kagglehub  # Para acceder a datasets de Kaggle\n",
        "!pip install q kaggle  # Instalar la biblioteca kaggle\n"
      ]
    },
    {
      "cell_type": "code",
      "execution_count": null,
      "metadata": {
        "colab": {
          "base_uri": "https://localhost:8080/"
        },
        "id": "XKM43eE_Mii8",
        "outputId": "22a83016-c825-410f-a583-d5c8530fb942"
      },
      "outputs": [
        {
          "output_type": "stream",
          "name": "stdout",
          "text": [
            "Path to dataset files: /content/combined_data.csv\n"
          ]
        }
      ],
      "source": [
        "2# Descargar el dataset y guardar la ruta en una variable\n",
        "path = kagglehub.dataset_download(\"purusinghvi/email-spam-classification-dataset\")\n",
        "\n",
        "# Cargar el archivo CSV usando la variable `path` directamente\n",
        "df = pd.read_csv(path + \"/combined_data.csv\")  # Asegúrate de que el nombre 'combined_data.csv' es correcto\n",
        "\n",
        "print(\"Path to dataset files:\", \"/content/combined_data.csv\")"
      ]
    },
    {
      "cell_type": "code",
      "execution_count": null,
      "metadata": {
        "colab": {
          "base_uri": "https://localhost:8080/"
        },
        "id": "QXVHYWBzNdcO",
        "outputId": "fcb45e75-4b82-455f-c90f-485ef8422adb"
      },
      "outputs": [
        {
          "output_type": "stream",
          "name": "stdout",
          "text": [
            "<class 'pandas.core.frame.DataFrame'>\n",
            "RangeIndex: 83448 entries, 0 to 83447\n",
            "Data columns (total 2 columns):\n",
            " #   Column  Non-Null Count  Dtype \n",
            "---  ------  --------------  ----- \n",
            " 0   label   83448 non-null  int64 \n",
            " 1   text    83448 non-null  object\n",
            "dtypes: int64(1), object(1)\n",
            "memory usage: 1.3+ MB\n"
          ]
        }
      ],
      "source": [
        "3# Muestra información general del DataFrame\n",
        "df.info()\n"
      ]
    },
    {
      "cell_type": "code",
      "execution_count": null,
      "metadata": {
        "colab": {
          "base_uri": "https://localhost:8080/",
          "height": 206
        },
        "id": "rTfNpGCUNkxA",
        "outputId": "458e1776-d906-49cf-bffc-7d54b074e6fa"
      },
      "outputs": [
        {
          "output_type": "execute_result",
          "data": {
            "text/plain": [
              "   label                                               text  text_length\n",
              "0      1  ounce feather bowl hummingbird opec moment ala...          148\n",
              "1      1  wulvob medircations online qnb ikud viagra esc...          808\n",
              "2      0  computer connection cnn com wednesday escapenu...         2235\n",
              "3      1  university degree obtain prosperous future mon...          592\n",
              "4      0  thanks answers guys know checked rsync manual ...         1362"
            ],
            "text/html": [
              "\n",
              "  <div id=\"df-38a89eb2-14e4-4c8b-bd33-afe6c20da432\" class=\"colab-df-container\">\n",
              "    <div>\n",
              "<style scoped>\n",
              "    .dataframe tbody tr th:only-of-type {\n",
              "        vertical-align: middle;\n",
              "    }\n",
              "\n",
              "    .dataframe tbody tr th {\n",
              "        vertical-align: top;\n",
              "    }\n",
              "\n",
              "    .dataframe thead th {\n",
              "        text-align: right;\n",
              "    }\n",
              "</style>\n",
              "<table border=\"1\" class=\"dataframe\">\n",
              "  <thead>\n",
              "    <tr style=\"text-align: right;\">\n",
              "      <th></th>\n",
              "      <th>label</th>\n",
              "      <th>text</th>\n",
              "      <th>text_length</th>\n",
              "    </tr>\n",
              "  </thead>\n",
              "  <tbody>\n",
              "    <tr>\n",
              "      <th>0</th>\n",
              "      <td>1</td>\n",
              "      <td>ounce feather bowl hummingbird opec moment ala...</td>\n",
              "      <td>148</td>\n",
              "    </tr>\n",
              "    <tr>\n",
              "      <th>1</th>\n",
              "      <td>1</td>\n",
              "      <td>wulvob medircations online qnb ikud viagra esc...</td>\n",
              "      <td>808</td>\n",
              "    </tr>\n",
              "    <tr>\n",
              "      <th>2</th>\n",
              "      <td>0</td>\n",
              "      <td>computer connection cnn com wednesday escapenu...</td>\n",
              "      <td>2235</td>\n",
              "    </tr>\n",
              "    <tr>\n",
              "      <th>3</th>\n",
              "      <td>1</td>\n",
              "      <td>university degree obtain prosperous future mon...</td>\n",
              "      <td>592</td>\n",
              "    </tr>\n",
              "    <tr>\n",
              "      <th>4</th>\n",
              "      <td>0</td>\n",
              "      <td>thanks answers guys know checked rsync manual ...</td>\n",
              "      <td>1362</td>\n",
              "    </tr>\n",
              "  </tbody>\n",
              "</table>\n",
              "</div>\n",
              "    <div class=\"colab-df-buttons\">\n",
              "\n",
              "  <div class=\"colab-df-container\">\n",
              "    <button class=\"colab-df-convert\" onclick=\"convertToInteractive('df-38a89eb2-14e4-4c8b-bd33-afe6c20da432')\"\n",
              "            title=\"Convert this dataframe to an interactive table.\"\n",
              "            style=\"display:none;\">\n",
              "\n",
              "  <svg xmlns=\"http://www.w3.org/2000/svg\" height=\"24px\" viewBox=\"0 -960 960 960\">\n",
              "    <path d=\"M120-120v-720h720v720H120Zm60-500h600v-160H180v160Zm220 220h160v-160H400v160Zm0 220h160v-160H400v160ZM180-400h160v-160H180v160Zm440 0h160v-160H620v160ZM180-180h160v-160H180v160Zm440 0h160v-160H620v160Z\"/>\n",
              "  </svg>\n",
              "    </button>\n",
              "\n",
              "  <style>\n",
              "    .colab-df-container {\n",
              "      display:flex;\n",
              "      gap: 12px;\n",
              "    }\n",
              "\n",
              "    .colab-df-convert {\n",
              "      background-color: #E8F0FE;\n",
              "      border: none;\n",
              "      border-radius: 50%;\n",
              "      cursor: pointer;\n",
              "      display: none;\n",
              "      fill: #1967D2;\n",
              "      height: 32px;\n",
              "      padding: 0 0 0 0;\n",
              "      width: 32px;\n",
              "    }\n",
              "\n",
              "    .colab-df-convert:hover {\n",
              "      background-color: #E2EBFA;\n",
              "      box-shadow: 0px 1px 2px rgba(60, 64, 67, 0.3), 0px 1px 3px 1px rgba(60, 64, 67, 0.15);\n",
              "      fill: #174EA6;\n",
              "    }\n",
              "\n",
              "    .colab-df-buttons div {\n",
              "      margin-bottom: 4px;\n",
              "    }\n",
              "\n",
              "    [theme=dark] .colab-df-convert {\n",
              "      background-color: #3B4455;\n",
              "      fill: #D2E3FC;\n",
              "    }\n",
              "\n",
              "    [theme=dark] .colab-df-convert:hover {\n",
              "      background-color: #434B5C;\n",
              "      box-shadow: 0px 1px 3px 1px rgba(0, 0, 0, 0.15);\n",
              "      filter: drop-shadow(0px 1px 2px rgba(0, 0, 0, 0.3));\n",
              "      fill: #FFFFFF;\n",
              "    }\n",
              "  </style>\n",
              "\n",
              "    <script>\n",
              "      const buttonEl =\n",
              "        document.querySelector('#df-38a89eb2-14e4-4c8b-bd33-afe6c20da432 button.colab-df-convert');\n",
              "      buttonEl.style.display =\n",
              "        google.colab.kernel.accessAllowed ? 'block' : 'none';\n",
              "\n",
              "      async function convertToInteractive(key) {\n",
              "        const element = document.querySelector('#df-38a89eb2-14e4-4c8b-bd33-afe6c20da432');\n",
              "        const dataTable =\n",
              "          await google.colab.kernel.invokeFunction('convertToInteractive',\n",
              "                                                    [key], {});\n",
              "        if (!dataTable) return;\n",
              "\n",
              "        const docLinkHtml = 'Like what you see? Visit the ' +\n",
              "          '<a target=\"_blank\" href=https://colab.research.google.com/notebooks/data_table.ipynb>data table notebook</a>'\n",
              "          + ' to learn more about interactive tables.';\n",
              "        element.innerHTML = '';\n",
              "        dataTable['output_type'] = 'display_data';\n",
              "        await google.colab.output.renderOutput(dataTable, element);\n",
              "        const docLink = document.createElement('div');\n",
              "        docLink.innerHTML = docLinkHtml;\n",
              "        element.appendChild(docLink);\n",
              "      }\n",
              "    </script>\n",
              "  </div>\n",
              "\n",
              "\n",
              "<div id=\"df-87ebd873-05cb-4452-9076-78317d57b54a\">\n",
              "  <button class=\"colab-df-quickchart\" onclick=\"quickchart('df-87ebd873-05cb-4452-9076-78317d57b54a')\"\n",
              "            title=\"Suggest charts\"\n",
              "            style=\"display:none;\">\n",
              "\n",
              "<svg xmlns=\"http://www.w3.org/2000/svg\" height=\"24px\"viewBox=\"0 0 24 24\"\n",
              "     width=\"24px\">\n",
              "    <g>\n",
              "        <path d=\"M19 3H5c-1.1 0-2 .9-2 2v14c0 1.1.9 2 2 2h14c1.1 0 2-.9 2-2V5c0-1.1-.9-2-2-2zM9 17H7v-7h2v7zm4 0h-2V7h2v10zm4 0h-2v-4h2v4z\"/>\n",
              "    </g>\n",
              "</svg>\n",
              "  </button>\n",
              "\n",
              "<style>\n",
              "  .colab-df-quickchart {\n",
              "      --bg-color: #E8F0FE;\n",
              "      --fill-color: #1967D2;\n",
              "      --hover-bg-color: #E2EBFA;\n",
              "      --hover-fill-color: #174EA6;\n",
              "      --disabled-fill-color: #AAA;\n",
              "      --disabled-bg-color: #DDD;\n",
              "  }\n",
              "\n",
              "  [theme=dark] .colab-df-quickchart {\n",
              "      --bg-color: #3B4455;\n",
              "      --fill-color: #D2E3FC;\n",
              "      --hover-bg-color: #434B5C;\n",
              "      --hover-fill-color: #FFFFFF;\n",
              "      --disabled-bg-color: #3B4455;\n",
              "      --disabled-fill-color: #666;\n",
              "  }\n",
              "\n",
              "  .colab-df-quickchart {\n",
              "    background-color: var(--bg-color);\n",
              "    border: none;\n",
              "    border-radius: 50%;\n",
              "    cursor: pointer;\n",
              "    display: none;\n",
              "    fill: var(--fill-color);\n",
              "    height: 32px;\n",
              "    padding: 0;\n",
              "    width: 32px;\n",
              "  }\n",
              "\n",
              "  .colab-df-quickchart:hover {\n",
              "    background-color: var(--hover-bg-color);\n",
              "    box-shadow: 0 1px 2px rgba(60, 64, 67, 0.3), 0 1px 3px 1px rgba(60, 64, 67, 0.15);\n",
              "    fill: var(--button-hover-fill-color);\n",
              "  }\n",
              "\n",
              "  .colab-df-quickchart-complete:disabled,\n",
              "  .colab-df-quickchart-complete:disabled:hover {\n",
              "    background-color: var(--disabled-bg-color);\n",
              "    fill: var(--disabled-fill-color);\n",
              "    box-shadow: none;\n",
              "  }\n",
              "\n",
              "  .colab-df-spinner {\n",
              "    border: 2px solid var(--fill-color);\n",
              "    border-color: transparent;\n",
              "    border-bottom-color: var(--fill-color);\n",
              "    animation:\n",
              "      spin 1s steps(1) infinite;\n",
              "  }\n",
              "\n",
              "  @keyframes spin {\n",
              "    0% {\n",
              "      border-color: transparent;\n",
              "      border-bottom-color: var(--fill-color);\n",
              "      border-left-color: var(--fill-color);\n",
              "    }\n",
              "    20% {\n",
              "      border-color: transparent;\n",
              "      border-left-color: var(--fill-color);\n",
              "      border-top-color: var(--fill-color);\n",
              "    }\n",
              "    30% {\n",
              "      border-color: transparent;\n",
              "      border-left-color: var(--fill-color);\n",
              "      border-top-color: var(--fill-color);\n",
              "      border-right-color: var(--fill-color);\n",
              "    }\n",
              "    40% {\n",
              "      border-color: transparent;\n",
              "      border-right-color: var(--fill-color);\n",
              "      border-top-color: var(--fill-color);\n",
              "    }\n",
              "    60% {\n",
              "      border-color: transparent;\n",
              "      border-right-color: var(--fill-color);\n",
              "    }\n",
              "    80% {\n",
              "      border-color: transparent;\n",
              "      border-right-color: var(--fill-color);\n",
              "      border-bottom-color: var(--fill-color);\n",
              "    }\n",
              "    90% {\n",
              "      border-color: transparent;\n",
              "      border-bottom-color: var(--fill-color);\n",
              "    }\n",
              "  }\n",
              "</style>\n",
              "\n",
              "  <script>\n",
              "    async function quickchart(key) {\n",
              "      const quickchartButtonEl =\n",
              "        document.querySelector('#' + key + ' button');\n",
              "      quickchartButtonEl.disabled = true;  // To prevent multiple clicks.\n",
              "      quickchartButtonEl.classList.add('colab-df-spinner');\n",
              "      try {\n",
              "        const charts = await google.colab.kernel.invokeFunction(\n",
              "            'suggestCharts', [key], {});\n",
              "      } catch (error) {\n",
              "        console.error('Error during call to suggestCharts:', error);\n",
              "      }\n",
              "      quickchartButtonEl.classList.remove('colab-df-spinner');\n",
              "      quickchartButtonEl.classList.add('colab-df-quickchart-complete');\n",
              "    }\n",
              "    (() => {\n",
              "      let quickchartButtonEl =\n",
              "        document.querySelector('#df-87ebd873-05cb-4452-9076-78317d57b54a button');\n",
              "      quickchartButtonEl.style.display =\n",
              "        google.colab.kernel.accessAllowed ? 'block' : 'none';\n",
              "    })();\n",
              "  </script>\n",
              "</div>\n",
              "\n",
              "    </div>\n",
              "  </div>\n"
            ],
            "application/vnd.google.colaboratory.intrinsic+json": {
              "type": "dataframe",
              "variable_name": "df",
              "summary": "{\n  \"name\": \"df\",\n  \"rows\": 83448,\n  \"fields\": [\n    {\n      \"column\": \"label\",\n      \"properties\": {\n        \"dtype\": \"number\",\n        \"std\": 0,\n        \"min\": 0,\n        \"max\": 1,\n        \"num_unique_values\": 2,\n        \"samples\": [\n          0,\n          1\n        ],\n        \"semantic_type\": \"\",\n        \"description\": \"\"\n      }\n    },\n    {\n      \"column\": \"text\",\n      \"properties\": {\n        \"dtype\": \"string\",\n        \"num_unique_values\": 81619,\n        \"samples\": [\n          \"note company number enron energia industrial mexico b v changed b order accommodate functional currency change eurodollars usd share information interested parties kate b cole director corporate services enron corp tel fax email kate cole enron com\",\n          \"think previous suggestions solved problem just case need flexibility try using cairo graphics device cairodevice conjunction gdkpixbuf bindings provided rgtkescapenumber allows fairly advanced image manipulation operations scaling compositing r graphics michael escapenumber escapenumber escapenumber robert biddle wrote hi doing work involves plotting points superimposed photographs maps produce plots fine r far superimposition externally makes tedious exploratory work looked capability background picture plot window advice cheers robert biddle r help stat math ethz ch mailing list https stat ethz ch mailman listinfo r help read posting guide http www r project org posting guide html provide commented minimal self contained reproducible code alternative html version deleted r help stat math ethz ch mailing list https stat ethz ch mailman listinfo r help read posting guide http www r project org posting guide html provide commented minimal self contained reproducible code\"\n        ],\n        \"semantic_type\": \"\",\n        \"description\": \"\"\n      }\n    },\n    {\n      \"column\": \"text_length\",\n      \"properties\": {\n        \"dtype\": \"number\",\n        \"std\": 4178,\n        \"min\": 1,\n        \"max\": 598705,\n        \"num_unique_values\": 7956,\n        \"samples\": [\n          10353,\n          4789\n        ],\n        \"semantic_type\": \"\",\n        \"description\": \"\"\n      }\n    }\n  ]\n}"
            }
          },
          "metadata": {},
          "execution_count": 16
        }
      ],
      "source": [
        "4# Revisa algunos ejemplos de los datos\n",
        "df.head()\n"
      ]
    },
    {
      "cell_type": "code",
      "source": [
        "# Mostrar nombres de columnas del DataFrame\n",
        "df.columns"
      ],
      "metadata": {
        "colab": {
          "base_uri": "https://localhost:8080/"
        },
        "id": "qqc2Du7xO2Ur",
        "outputId": "4f656e72-5f43-4b5c-b1a6-65007779e623"
      },
      "execution_count": null,
      "outputs": [
        {
          "output_type": "execute_result",
          "data": {
            "text/plain": [
              "Index(['label', 'text', 'text_length'], dtype='object')"
            ]
          },
          "metadata": {},
          "execution_count": 17
        }
      ]
    },
    {
      "cell_type": "code",
      "source": [
        "# Exploración de Datos (EDA)\n",
        "\n",
        "#5 Distribución de Clases (Spam y No Spam)\n",
        "# Revisamos la distribución de las etiquetas en la columna LABEL\n",
        "class_distribution = df['label'].value_counts()\n",
        "print(\"Distribución de clases (Spam y No Spam):\\n\", class_distribution)\n",
        "print(\"\\nProporción de clases:\\n\", class_distribution / len(df) * 100)\n",
        "\n",
        "plt.figure(figsize=(6, 4))\n",
        "sns.countplot(x='label', data=df)\n",
        "plt.title(\"Distribución de clases (Spam vs No Spam)\")\n",
        "plt.xlabel(\"Clase (0 = No Spam, 1 = Spam)\")\n",
        "plt.ylabel(\"Frecuencia\")\n",
        "plt.show()\n"
      ],
      "metadata": {
        "colab": {
          "base_uri": "https://localhost:8080/",
          "height": 607
        },
        "id": "JN3kWo1eJwNk",
        "outputId": "2b537a83-3e99-43cf-b464-002585d88024"
      },
      "execution_count": null,
      "outputs": [
        {
          "output_type": "stream",
          "name": "stdout",
          "text": [
            "Distribución de clases (Spam y No Spam):\n",
            " label\n",
            "1    43910\n",
            "0    39538\n",
            "Name: count, dtype: int64\n",
            "\n",
            "Proporción de clases:\n",
            " label\n",
            "1    52.619595\n",
            "0    47.380405\n",
            "Name: count, dtype: float64\n"
          ]
        },
        {
          "output_type": "display_data",
          "data": {
            "text/plain": [
              "<Figure size 600x400 with 1 Axes>"
            ],
            "image/png": "[encoded data removed]"
          },
          "metadata": {}
        }
      ]
    },
    {
      "cell_type": "code",
      "source": [
        "#6 Cantidad de Datos\n",
        "# Revisamos el número total de correos electrónicos en el dataset\n",
        "print(\"Cantidad total de correos electrónicos en el dataset:\", len(df))"
      ],
      "metadata": {
        "colab": {
          "base_uri": "https://localhost:8080/"
        },
        "id": "h_iog3KWan7X",
        "outputId": "e37e3e77-f19e-458a-e19c-c9edc8ab41e4"
      },
      "execution_count": null,
      "outputs": [
        {
          "output_type": "stream",
          "name": "stdout",
          "text": [
            "Cantidad total de correos electrónicos en el dataset: 83448\n"
          ]
        }
      ]
    },
    {
      "cell_type": "code",
      "source": [
        "#7  Formato de Texto en la Columna \"Text\"\n",
        "# Revisamos algunas características del texto, como longitud promedio, mínima y máxima\n",
        "df['text_length'] = df['text'].apply(len)\n",
        "print(\"Longitud promedio de texto:\", df['text_length'].mean())\n",
        "print(\"Longitud mínima de texto:\", df['text_length'].min())\n",
        "print(\"Longitud máxima de texto:\", df['text_length'].max())\n",
        "\n",
        "# Visualización de la distribución de la longitud de los correos electrónicos\n",
        "plt.figure(figsize=(8, 6))\n",
        "sns.histplot(df['text_length'], bins=30, kde=True)\n",
        "plt.title(\"Distribución de la longitud de los correos electrónicos\")\n",
        "plt.xlabel(\"Longitud del texto\")\n",
        "plt.ylabel(\"Frecuencia\")\n",
        "plt.show()"
      ],
      "metadata": {
        "colab": {
          "base_uri": "https://localhost:8080/",
          "height": 619
        },
        "id": "GWGNHTCCatyE",
        "outputId": "1273b299-4323-4b16-f895-ec93c8929fea"
      },
      "execution_count": null,
      "outputs": [
        {
          "output_type": "stream",
          "name": "stdout",
          "text": [
            "Longitud promedio de texto: 1235.9987537148884\n",
            "Longitud mínima de texto: 0\n",
            "Longitud máxima de texto: 583916\n"
          ]
        },
        {
          "output_type": "display_data",
          "data": {
            "text/plain": [
              "<Figure size 800x600 with 1 Axes>"
            ],
            "image/png": "[encoded data removed]"
          },
          "metadata": {}
        }
      ]
    },
    {
      "cell_type": "code",
      "source": [
        "#8 Transformación del Texto con TF-IDF\n",
        "# Usamos TF-IDF para convertir el texto en una representación numérica\n",
        "from sklearn.feature_extraction.text import TfidfVectorizer\n",
        "\n",
        "tfidf = TfidfVectorizer(stop_words='english', max_features=3000)  # Ajusta max_features según sea necesario\n",
        "X_tfidf = tfidf.fit_transform(df['text'])\n",
        "\n",
        "# Visualizamos la forma de la matriz TF-IDF para confirmar la transformación\n",
        "print(\"Dimensiones de la matriz TF-IDF:\", X_tfidf.shape)"
      ],
      "metadata": {
        "colab": {
          "base_uri": "https://localhost:8080/"
        },
        "id": "NtPFoSQ9azXN",
        "outputId": "7435aefe-46d2-43c2-b122-ccd40ca42c69"
      },
      "execution_count": null,
      "outputs": [
        {
          "output_type": "stream",
          "name": "stdout",
          "text": [
            "Dimensiones de la matriz TF-IDF: (83448, 3000)\n"
          ]
        }
      ]
    },
    {
      "cell_type": "code",
      "execution_count": null,
      "metadata": {
        "colab": {
          "base_uri": "https://localhost:8080/",
          "height": 178
        },
        "id": "2Z-RmNyBNzxE",
        "outputId": "5bc4f115-3659-44c8-b40e-b44f4e21f1ad"
      },
      "outputs": [
        {
          "output_type": "execute_result",
          "data": {
            "text/plain": [
              "label          0\n",
              "text           0\n",
              "text_length    0\n",
              "dtype: int64"
            ],
            "text/html": [
              "<div>\n",
              "<style scoped>\n",
              "    .dataframe tbody tr th:only-of-type {\n",
              "        vertical-align: middle;\n",
              "    }\n",
              "\n",
              "    .dataframe tbody tr th {\n",
              "        vertical-align: top;\n",
              "    }\n",
              "\n",
              "    .dataframe thead th {\n",
              "        text-align: right;\n",
              "    }\n",
              "</style>\n",
              "<table border=\"1\" class=\"dataframe\">\n",
              "  <thead>\n",
              "    <tr style=\"text-align: right;\">\n",
              "      <th></th>\n",
              "      <th>0</th>\n",
              "    </tr>\n",
              "  </thead>\n",
              "  <tbody>\n",
              "    <tr>\n",
              "      <th>label</th>\n",
              "      <td>0</td>\n",
              "    </tr>\n",
              "    <tr>\n",
              "      <th>text</th>\n",
              "      <td>0</td>\n",
              "    </tr>\n",
              "    <tr>\n",
              "      <th>text_length</th>\n",
              "      <td>0</td>\n",
              "    </tr>\n",
              "  </tbody>\n",
              "</table>\n",
              "</div><br><label><b>dtype:</b> int64</label>"
            ]
          },
          "metadata": {},
          "execution_count": 10
        }
      ],
      "source": [
        "#9 Verifica si hay valores nulos\n",
        "df.isnull().sum()"
      ]
    },
    {
      "cell_type": "code",
      "execution_count": null,
      "metadata": {
        "colab": {
          "base_uri": "https://localhost:8080/"
        },
        "id": "HZutzIgLrgqy",
        "outputId": "ef6c57d5-0e47-4468-dda5-7e35fad72633"
      },
      "outputs": [
        {
          "data": {
            "text/plain": [
              "1824"
            ]
          },
          "execution_count": 23,
          "metadata": {},
          "output_type": "execute_result"
        }
      ],
      "source": [
        "#10 Verifica datos duplicados\n",
        "df.duplicated().sum()"
      ]
    },
    {
      "cell_type": "code",
      "execution_count": null,
      "metadata": {
        "id": "KQbOFOl3qtK6"
      },
      "outputs": [],
      "source": [
        "#11 Aplicar la función de normalización al texto\n",
        "df['text'] = df['text'].apply(preprocesar_texto)\n"
      ]
    },
    {
      "cell_type": "code",
      "source": [
        "#12 Preprocesamiento del texto\n",
        "\n",
        "def preprocesar_texto(texto):\n",
        "    # Convertir a minúsculas\n",
        "    texto = texto.lower()\n",
        "    # Eliminar caracteres especiales y números\n",
        "    texto = re.sub(r'\\d+', '', texto)\n",
        "    texto = texto.translate(str.maketrans(\"\", \"\", string.punctuation))\n",
        "    # Eliminar palabras comunes (stop words) en inglés\n",
        "    from sklearn.feature_extraction.text import ENGLISH_STOP_WORDS\n",
        "    texto = \" \".join([palabra for palabra in texto.split() if palabra not in ENGLISH_STOP_WORDS])\n",
        "    return texto"
      ],
      "metadata": {
        "id": "Ls-UYj7ANcxs"
      },
      "execution_count": null,
      "outputs": []
    },
    {
      "cell_type": "code",
      "execution_count": null,
      "metadata": {
        "id": "Vflr7Ao9oW3q"
      },
      "outputs": [],
      "source": [
        "#13 Implementación con TFIDVECTORIZER:\n",
        "\n",
        "from sklearn.feature_extraction.text import TfidfVectorizer\n",
        "\n",
        "# Convierte el texto en vectores TF-IDF\n",
        "vectorizer = TfidfVectorizer(stop_words='english')\n",
        "X = vectorizer.fit_transform(df['text'])  # Usa la columna 'text' en lugar de 'email'\n",
        "\n",
        "# Assuming 'label' is the actual name of your target column:\n",
        "y = df['label']  # Changed 'LABEL' to 'label'"
      ]
    },
    {
      "cell_type": "code",
      "execution_count": null,
      "metadata": {
        "colab": {
          "base_uri": "https://localhost:8080/"
        },
        "id": "UjjbyWmFPg4S",
        "outputId": "4d158419-f34a-4054-ade7-8bd297429774"
      },
      "outputs": [
        {
          "output_type": "stream",
          "name": "stdout",
          "text": [
            "Tamaño del conjunto de entrenamiento: (66758, 301242)\n",
            "Tamaño del conjunto de prueba: (16690, 301242)\n"
          ]
        }
      ],
      "source": [
        "#14 División del conjunto de datos en entrenamiento (80%) y prueba (20%)\n",
        "\n",
        "X_train, X_test, y_train, y_test = train_test_split(X, y, test_size=0.2, random_state=42)\n",
        "print(\"Tamaño del conjunto de entrenamiento:\", X_train.shape)\n",
        "print(\"Tamaño del conjunto de prueba:\", X_test.shape)\n"
      ]
    },
    {
      "cell_type": "code",
      "execution_count": null,
      "metadata": {
        "colab": {
          "base_uri": "https://localhost:8080/"
        },
        "id": "2WeXnS5xYqwn",
        "outputId": "7bc27fbe-a5a2-4f07-ff34-53217883271e"
      },
      "outputs": [
        {
          "output_type": "stream",
          "name": "stdout",
          "text": [
            "Evaluación de Random Forest Classifier:\n",
            "Precisión: 0.9822049131216297\n",
            "              precision    recall  f1-score   support\n",
            "\n",
            "           0       0.98      0.99      0.98      7938\n",
            "           1       0.99      0.98      0.98      8752\n",
            "\n",
            "    accuracy                           0.98     16690\n",
            "   macro avg       0.98      0.98      0.98     16690\n",
            "weighted avg       0.98      0.98      0.98     16690\n",
            "\n",
            "Matriz de Confusión:\n",
            " [[7821  117]\n",
            " [ 180 8572]]\n",
            "\n",
            "Evaluación de Logistic Regression:\n",
            "Precisión: 0.9851408028759736\n",
            "              precision    recall  f1-score   support\n",
            "\n",
            "           0       0.99      0.98      0.98      7938\n",
            "           1       0.98      0.99      0.99      8752\n",
            "\n",
            "    accuracy                           0.99     16690\n",
            "   macro avg       0.99      0.98      0.99     16690\n",
            "weighted avg       0.99      0.99      0.99     16690\n",
            "\n",
            "Matriz de Confusión:\n",
            " [[7742  196]\n",
            " [  52 8700]]\n"
          ]
        }
      ],
      "source": [
        "#15 Inicialización del modelo Random Forest\n",
        "random_forest_model = RandomForestClassifier(random_state=42)\n",
        "\n",
        "#16 Entrenamiento del modelo Random Forest\n",
        "random_forest_model.fit(X_train, y_train)\n",
        "\n",
        "# Predicción y evaluación para Random Forest\n",
        "rf_predictions = random_forest_model.predict(X_test)\n",
        "print(\"Evaluación de Random Forest Classifier:\")\n",
        "print(\"Precisión:\", accuracy_score(y_test, rf_predictions))\n",
        "print(classification_report(y_test, rf_predictions))\n",
        "print(\"Matriz de Confusión:\\n\", confusion_matrix(y_test, rf_predictions))\n",
        "\n",
        "#17 Inicialización del modelo de Regresión Logística\n",
        "logistic_regression_model = LogisticRegression(max_iter=1000, random_state=42)\n",
        "\n",
        "#18 Entrenamiento del modelo de Regresión Logística\n",
        "logistic_regression_model.fit(X_train, y_train)\n",
        "\n",
        "# Predicción y evaluación para Logistic Regression\n",
        "lr_predictions = logistic_regression_model.predict(X_test)\n",
        "print(\"\\nEvaluación de Logistic Regression:\")\n",
        "print(\"Precisión:\", accuracy_score(y_test, lr_predictions))\n",
        "print(classification_report(y_test, lr_predictions))\n",
        "print(\"Matriz de Confusión:\\n\", confusion_matrix(y_test, lr_predictions))\n"
      ]
    },
    {
      "cell_type": "code",
      "source": [
        "#19 Crear el pipeline con el vectorizador y el modelo\n",
        "pipeline = Pipeline([\n",
        "    ('tfidf', TfidfVectorizer(stop_words='english')),\n",
        "    ('classifier', LogisticRegression())  # Cambia LogisticRegression si prefieres otro modelo\n",
        "])\n",
        "\n",
        "# Entrenar el modelo\n",
        "pipeline.fit(X_train, y_train)\n",
        "\n",
        "# Realizar predicciones en el conjunto de prueba\n",
        "y_pred = pipeline.predict(X_test)\n",
        "\n",
        "# Calcular la precisión y otras métricas\n",
        "from sklearn.metrics import accuracy_score, classification_report\n",
        "\n",
        "print(\"Accuracy:\", accuracy_score(y_test, y_pred))\n",
        "print(\"Classification Report:\\n\", classification_report(y_test, y_pred))\n"
      ],
      "metadata": {
        "colab": {
          "base_uri": "https://localhost:8080/"
        },
        "id": "KnGUapVXcVUT",
        "outputId": "0ea51d8a-5711-46a4-b7e5-d2e0a7b7dc3d"
      },
      "execution_count": null,
      "outputs": [
        {
          "output_type": "stream",
          "name": "stdout",
          "text": [
            "Accuracy: 0.9848412222887957\n",
            "Classification Report:\n",
            "               precision    recall  f1-score   support\n",
            "\n",
            "           0       0.99      0.98      0.98      7938\n",
            "           1       0.98      0.99      0.99      8752\n",
            "\n",
            "    accuracy                           0.98     16690\n",
            "   macro avg       0.99      0.98      0.98     16690\n",
            "weighted avg       0.98      0.98      0.98     16690\n",
            "\n"
          ]
        }
      ]
    }
  ],
  "metadata": {
    "colab": {
      "provenance": [],
      "include_colab_link": true
    },
    "kernelspec": {
      "display_name": "Python 3",
      "name": "python3"
    },
    "language_info": {
      "name": "python"
    }
  },
  "nbformat": 4,
  "nbformat_minor": 0
}